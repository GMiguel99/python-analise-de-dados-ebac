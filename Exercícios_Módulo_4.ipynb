{
  "nbformat": 4,
  "nbformat_minor": 0,
  "metadata": {
    "colab": {
      "provenance": [],
      "collapsed_sections": [
        "RrF3--TA7cNb",
        "qEz4UDc671Yn"
      ],
      "toc_visible": true,
      "authorship_tag": "ABX9TyMQyx7uE7XQTiQtZJAWmRf0",
      "include_colab_link": true
    },
    "kernelspec": {
      "name": "python3",
      "display_name": "Python 3"
    },
    "language_info": {
      "name": "python"
    }
  },
  "cells": [
    {
      "cell_type": "markdown",
      "metadata": {
        "id": "view-in-github",
        "colab_type": "text"
      },
      "source": [
        "<a href=\"https://colab.research.google.com/github/GMiguel99/python-analise-de-dados-ebac/blob/main/Exerc%C3%ADcios_M%C3%B3dulo_4.ipynb\" target=\"_parent\"><img src=\"https://colab.research.google.com/assets/colab-badge.svg\" alt=\"Open In Colab\"/></a>"
      ]
    },
    {
      "cell_type": "markdown",
      "source": [
        "# Preparação de Ambiente"
      ],
      "metadata": {
        "id": "RrF3--TA7cNb"
      }
    },
    {
      "cell_type": "code",
      "execution_count": null,
      "metadata": {
        "id": "6LJuEE2n6i9Y"
      },
      "outputs": [],
      "source": [
        "%%writefile carros.csv\n",
        "id,valor_venda,valor_manutencao,portas,pessoas,porta_malas\n",
        "1,vhigh,med,2,2,small\n",
        "2,med,vhigh,2,2,small\n",
        "3,low,vhigh,2,2,small\n",
        "4,low,high,2,2,small\n",
        "5,low,high,2,2,small\n",
        "6,low,high,4,4,big\n",
        "7,low,high,4,4,big\n",
        "8,low,med,2,2,small\n",
        "9,low,med,2,2,small\n",
        "10,low,med,2,2,small\n",
        "11,low,med,4,4,big\n",
        "12,low,low,2,2,small\n",
        "13,low,low,4,4,small\n",
        "14,low,low,4,4,med"
      ]
    },
    {
      "cell_type": "code",
      "source": [
        "%%writefile musica.txt\n",
        "Roda Viva\n",
        "Chico Buarque\n",
        "\n",
        "Tem dias que a gente se sente\n",
        "Como quem partiu ou morreu\n",
        "A gente estancou de repente\n",
        "Ou foi o mundo então que cresceu\n",
        "A gente quer ter voz ativa\n",
        "No nosso destino mandar\n",
        "Mas eis que chega a roda viva\n",
        "E carrega o destino pra lá\n",
        "\n",
        "Roda mundo, roda-gigante\n",
        "Roda moinho, roda pião\n",
        "\n",
        "O tempo rodou num instante\n",
        "Nas voltas do meu coração\n",
        "A gente vai contra a corrente\n",
        "Até não poder resistir\n",
        "Na volta do barco é que sente\n",
        "O quanto deixou de cumprir\n",
        "Faz tempo que a gente cultiva\n",
        "A mais linda roseira que há\n",
        "Mas eis que chega a roda viva\n",
        "E carrega a roseira pra lá\n",
        "\n",
        "Roda mundo, roda-gigante\n",
        "Roda moinho, roda pião"
      ],
      "metadata": {
        "id": "IkJtwGiA7tN-"
      },
      "execution_count": null,
      "outputs": []
    },
    {
      "cell_type": "markdown",
      "source": [
        "# Exercício\n",
        "- Extração de coluna de arquivo csv"
      ],
      "metadata": {
        "id": "qEz4UDc671Yn"
      }
    },
    {
      "cell_type": "code",
      "source": [
        "# 1.1. Extraia os valores valor_venda e armazena em uma lista.\n",
        "\n",
        "valores_venda = []\n",
        "\n",
        "with open(file='./carros.csv', mode='r', encoding='utf8') as fp:\n",
        "  linha = fp.readline() # Lendo os itens da lista, no caso o cabeçalho\n",
        "  # Debug print(linha)\n",
        "  linha = fp.readline() # Lendo os itens da lista, no caso a 1a linha de dados de fato\n",
        "  # Debug print(linha)\n",
        "\n",
        "  while linha:\n",
        "    linha_separada = linha.split(sep=',') # Destrinchando o itens da lista\n",
        "    valor_venda = linha_separada[1] # Salvando o item da lista\n",
        "    valor_venda = str(valor_venda) # Convertendo ele pra String\n",
        "    # Debug print(f'{valor_venda}, {type(valor_venda)}')\n",
        "    valores_venda.append(valor_venda) # Salvando ele na lista de valores\n",
        "    linha = fp.readline() # lendo a próxima linha\n",
        "\n",
        "print(valores_venda)"
      ],
      "metadata": {
        "id": "J0H8ufgV75-L"
      },
      "execution_count": null,
      "outputs": []
    },
    {
      "cell_type": "code",
      "source": [
        "# 1.2 Complete a função abaixo para extrair uma coluna, do arquivo csv em uma lista.\n",
        "\n",
        "def extrai_coluna_csv(nome_arquivo: str, indice_coluna: int):\n",
        "\n",
        "  coluna = []\n",
        "\n",
        "  with open(file=nome_arquivo, mode='r', encoding='utf8') as fp:\n",
        "    linha = fp.readline() # Lendo os itens da lista, no caso o cabeçalho\n",
        "    linha = fp.readline() # Lendo os itens da lista, no caso a 1a linha de dados de fato\n",
        "\n",
        "    while linha:\n",
        "      linha_separada = linha.split(sep=',') # Destrinchando o itens da lista\n",
        "      valor_coluna = linha_separada[indice_coluna] # Salvando o item da lista segundo a coluna informada\n",
        "      coluna.append(valor_coluna) # Salvando ele na lista de valores\n",
        "      linha = fp.readline() # lendo a próxima linha\n",
        "\n",
        "  return coluna\n",
        "\n",
        "# Teste: extrair a coluna valor_manutencao\n",
        "valor_manutencao = extrai_coluna_csv(nome_arquivo='./carros.csv', indice_coluna=2)\n",
        "print(f'{valor_manutencao}') # deve retornar ['med', 'vhigh', 'vhigh', ...]\n",
        "\n",
        "# Teste: extrair a coluna porta_malas\n",
        "porta_malas = extrai_coluna_csv(nome_arquivo='./carros.csv', indice_coluna=5)\n",
        "print(f'{porta_malas}') # deve retornar ['small', 'small', 'small', ...]"
      ],
      "metadata": {
        "id": "aVauxJ3K_3Jk"
      },
      "execution_count": null,
      "outputs": []
    },
    {
      "cell_type": "markdown",
      "source": [
        "# Exercícios Bônus"
      ],
      "metadata": {
        "id": "F6C-YuaxC6bm"
      }
    },
    {
      "cell_type": "code",
      "source": [
        "# 1. Funções para arquivo csv\n",
        "\n",
        "def extrai_coluna_csv(nome_arquivo: str, indice_coluna: int, tipo_dado: str):\n",
        "\n",
        "  coluna = []\n",
        "\n",
        "  # leia o arquivo com o comando 'with' utilizando o parametro 'nome_arquivo'\n",
        "  with open(file=nome_arquivo, mode='r', encoding='utf8') as fp:\n",
        "    linha = fp.readline() # lendo o cabeçalho do arquivo\n",
        "    linha = fp.readline() # lê a primeira linha\n",
        "\n",
        "  # extraia a coluna do arquivo utilizando o parametro 'indice_coluna'\n",
        "    while linha:\n",
        "      linha_separada = linha.split(sep=',') # Destrinchando o itens da lista\n",
        "      valor_coluna = linha_separada[indice_coluna] # Salvando o item da lista\n",
        "\n",
        "  # use a estrutura de decisão if/elif/else para fazer a conversão do tipo de dados utilizando o parametro 'tipo_dado'\n",
        "      if (tipo_dado == 'str'):\n",
        "        valor_coluna = str(valor_coluna)\n",
        "        coluna.append(valor_coluna)\n",
        "        linha = fp.readline()\n",
        "      elif (tipo_dado == 'int'):\n",
        "        valor_coluna = int(valor_coluna)\n",
        "        coluna.append(valor_coluna)\n",
        "        linha = fp.readline()\n",
        "      elif (tipo_dado == 'float'):\n",
        "        valor_coluna = float(valor_coluna)\n",
        "        coluna.append(valor_coluna)\n",
        "        linha = fp.readline()\n",
        "      elif (tipo_dado == 'bool'):\n",
        "        valor_coluna = bool(valor_coluna)\n",
        "        coluna.append(valor_coluna)\n",
        "        linha = fp.readline()\n",
        "      elif (tipo_dado == 'list'):\n",
        "        valor_coluna = list(valor_coluna)\n",
        "        coluna.append(valor_coluna)\n",
        "        linha = fp.readline()\n",
        "      elif (tipo_dado == 'dict'):\n",
        "        valor_coluna = dict(valor_coluna)\n",
        "        coluna.append(valor_coluna)\n",
        "        linha = fp.readline()\n",
        "      elif (tipo_dado == 'complex'):\n",
        "        valor_coluna = complex(valor_coluna)\n",
        "        coluna.append(valor_coluna)\n",
        "        linha = fp.readline()\n",
        "      elif (tipo_dado == 'tuple'):\n",
        "        valor_coluna = tuple(valor_coluna)\n",
        "        coluna.append(valor_coluna)\n",
        "        linha = fp.readline()\n",
        "      else:\n",
        "        coluna.append('Typeerror')\n",
        "        linha = fp.readline()\n",
        "\n",
        "  return coluna\n",
        "\n",
        "# Teste: extrair a coluna valor_venda\n",
        "print('Teste 1')\n",
        "valor_venda = extrai_coluna_csv(nome_arquivo='./carros.csv', indice_coluna=1, tipo_dado='str')\n",
        "print(valor_venda) # deve retornar ['vhigh', 'med', 'low', ...]\n",
        "\n",
        "print(\"\")\n",
        "\n",
        "# Teste: extrair a coluna pessoas\n",
        "print('Teste 2')\n",
        "pessoas = extrai_coluna_csv(nome_arquivo='./carros.csv', indice_coluna=4, tipo_dado='int')\n",
        "print(pessoas) # deve retornar [2, 2, 2, ...]"
      ],
      "metadata": {
        "id": "5Oc2iMVkC-5M"
      },
      "execution_count": null,
      "outputs": []
    },
    {
      "cell_type": "code",
      "source": [
        "# 2. Funções para arquivo txt\n",
        "\n",
        "def extrai_linha_txt(nome_arquivo: str, numero_linha: int):\n",
        "\n",
        "  linhas_do_arquivo = []\n",
        "  palavras_linha = []\n",
        "\n",
        "  # leia o arquivo com o comando 'with' utilizando o parametro 'nome_arquivo'\n",
        "\n",
        "  with open(file=nome_arquivo, mode='r', encoding='utf8') as fp:\n",
        "      linha = fp.readline() # Lendo a 1a linha da letra\n",
        "\n",
        "      # Salvando cada linha dentro da lista de linhas\n",
        "      while linha:\n",
        "        linha_separada = linha.split(sep='\\n')\n",
        "        sentenca = linha_separada[0]\n",
        "        sentenca = str(sentenca)\n",
        "        linhas_do_arquivo.append(sentenca)\n",
        "        linha = fp.readline()\n",
        "\n",
        "  # extraia a linha do arquivo utilizando o parametro 'numero_linha'\n",
        "  linha_que_eu_quero = linhas_do_arquivo[numero_linha-1]\n",
        "\n",
        "  # quebre a linha em palavras com o comando split, note que o separador é um espaço ' '\n",
        "  palavras_linha = linha_que_eu_quero.split(sep=' ')\n",
        "\n",
        "  return palavras_linha\n",
        "\n",
        "linha10 = extrai_linha_txt(nome_arquivo='./musica.txt', numero_linha=10)\n",
        "print(linha10) # deve retornar ['Mas', 'eis', 'que', 'chega', 'a', 'roda', 'viva']"
      ],
      "metadata": {
        "id": "LsKpkBjTvwDe"
      },
      "execution_count": null,
      "outputs": []
    }
  ]
}