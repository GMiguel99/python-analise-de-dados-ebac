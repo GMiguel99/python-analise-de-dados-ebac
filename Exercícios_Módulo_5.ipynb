{
  "nbformat": 4,
  "nbformat_minor": 0,
  "metadata": {
    "colab": {
      "provenance": [],
      "collapsed_sections": [
        "XjtKl0TeNecB"
      ],
      "authorship_tag": "ABX9TyNHkhRu4Ma8a4i4D6cKMHc6",
      "include_colab_link": true
    },
    "kernelspec": {
      "name": "python3",
      "display_name": "Python 3"
    },
    "language_info": {
      "name": "python"
    }
  },
  "cells": [
    {
      "cell_type": "markdown",
      "metadata": {
        "id": "view-in-github",
        "colab_type": "text"
      },
      "source": [
        "<a href=\"https://colab.research.google.com/github/GMiguel99/python-analise-de-dados-ebac/blob/main/Exerc%C3%ADcios_M%C3%B3dulo_5.ipynb\" target=\"_parent\"><img src=\"https://colab.research.google.com/assets/colab-badge.svg\" alt=\"Open In Colab\"/></a>"
      ]
    },
    {
      "cell_type": "markdown",
      "source": [
        "# 0. Preparação de ambiente"
      ],
      "metadata": {
        "id": "XjtKl0TeNecB"
      }
    },
    {
      "cell_type": "code",
      "source": [
        "%%writefile credito.csv\n",
        "id_vendedor,valor_emprestimos,quantidade_emprestimos,data\n",
        "104271,448.0,1,20161208\n",
        "21476,826.7,3,20161208\n",
        "87440,313.6,3,20161208\n",
        "15980,-8008.0,6,20161208\n",
        "215906,2212.0,5,20161208\n",
        "33696,2771.3,2,20161208\n",
        "33893,2240.0,3,20161208\n",
        "214946,-4151.0,18,20161208\n",
        "123974,2021.95,2,20161208\n",
        "225870,4039.0,2,20161208"
      ],
      "metadata": {
        "id": "F3Ni_zf_Nhb-"
      },
      "execution_count": null,
      "outputs": []
    },
    {
      "cell_type": "code",
      "source": [
        "emprestimos = []\n",
        "\n",
        "with open(file='./credito.csv', mode='r', encoding='utf8') as fp:\n",
        "  fp.readline() # cabeçalho\n",
        "  linha = fp.readline()\n",
        "  \n",
        "  while linha:\n",
        "    linha_emprestimo = {}\n",
        "    linha_elementos = linha.strip().split(sep=',')\n",
        "    linha_emprestimo['id_vendedor'] = linha_elementos[0]\n",
        "    linha_emprestimo['valor_emprestimos'] = linha_elementos[1]\n",
        "    linha_emprestimo['quantidade_emprestimos'] = linha_elementos[2]\n",
        "    linha_emprestimo['data'] = linha_elementos[3]\n",
        "    emprestimos.append(linha_emprestimo)\n",
        "    linha = fp.readline()"
      ],
      "metadata": {
        "id": "rdQ5cMH7NmMM"
      },
      "execution_count": 2,
      "outputs": []
    },
    {
      "cell_type": "code",
      "source": [
        "for emprestimo in emprestimos:\n",
        "  print(emprestimo)"
      ],
      "metadata": {
        "colab": {
          "base_uri": "https://localhost:8080/"
        },
        "id": "ploG_yrINpQx",
        "outputId": "bf1e4d43-7f2b-400f-c3d4-b6ce21ea7229"
      },
      "execution_count": 3,
      "outputs": [
        {
          "output_type": "stream",
          "name": "stdout",
          "text": [
            "{'id_vendedor': '104271', 'valor_emprestimos': '448.0', 'quantidade_emprestimos': '1', 'data': '20161208'}\n",
            "{'id_vendedor': '21476', 'valor_emprestimos': '826.7', 'quantidade_emprestimos': '3', 'data': '20161208'}\n",
            "{'id_vendedor': '87440', 'valor_emprestimos': '313.6', 'quantidade_emprestimos': '3', 'data': '20161208'}\n",
            "{'id_vendedor': '15980', 'valor_emprestimos': '-8008.0', 'quantidade_emprestimos': '6', 'data': '20161208'}\n",
            "{'id_vendedor': '215906', 'valor_emprestimos': '2212.0', 'quantidade_emprestimos': '5', 'data': '20161208'}\n",
            "{'id_vendedor': '33696', 'valor_emprestimos': '2771.3', 'quantidade_emprestimos': '2', 'data': '20161208'}\n",
            "{'id_vendedor': '33893', 'valor_emprestimos': '2240.0', 'quantidade_emprestimos': '3', 'data': '20161208'}\n",
            "{'id_vendedor': '214946', 'valor_emprestimos': '-4151.0', 'quantidade_emprestimos': '18', 'data': '20161208'}\n",
            "{'id_vendedor': '123974', 'valor_emprestimos': '2021.95', 'quantidade_emprestimos': '2', 'data': '20161208'}\n",
            "{'id_vendedor': '225870', 'valor_emprestimos': '4039.0', 'quantidade_emprestimos': '2', 'data': '20161208'}\n"
          ]
        }
      ]
    },
    {
      "cell_type": "markdown",
      "source": [
        "# 1. Função Map"
      ],
      "metadata": {
        "id": "8shx2O4GNtXJ"
      }
    },
    {
      "cell_type": "code",
      "source": [
        "valor_emprestimos_lista = list(map(lambda valor_emprestimo : float(valor_emprestimo['valor_emprestimos']), emprestimos))\n",
        "print(valor_emprestimos_lista)"
      ],
      "metadata": {
        "colab": {
          "base_uri": "https://localhost:8080/"
        },
        "id": "Rn-XUY4hNzdM",
        "outputId": "6bc8470c-e66e-479d-c09c-8817b6510ef3"
      },
      "execution_count": 7,
      "outputs": [
        {
          "output_type": "stream",
          "name": "stdout",
          "text": [
            "[448.0, 826.7, 313.6, -8008.0, 2212.0, 2771.3, 2240.0, -4151.0, 2021.95, 4039.0]\n"
          ]
        }
      ]
    },
    {
      "cell_type": "markdown",
      "source": [
        "# 2. Função Filter"
      ],
      "metadata": {
        "id": "oBhc3oHuSvt3"
      }
    },
    {
      "cell_type": "code",
      "source": [
        "valor_emprestimos_lista_filtrada = list(filter(lambda emprestimo: emprestimo > 0, valor_emprestimos_lista))\n",
        "print(valor_emprestimos_lista_filtrada)"
      ],
      "metadata": {
        "colab": {
          "base_uri": "https://localhost:8080/"
        },
        "id": "2TOFWhEYT0O1",
        "outputId": "b0b4d99b-988a-42a8-940b-53e5738eb68a"
      },
      "execution_count": 8,
      "outputs": [
        {
          "output_type": "stream",
          "name": "stdout",
          "text": [
            "[448.0, 826.7, 313.6, 2212.0, 2771.3, 2240.0, 2021.95, 4039.0]\n"
          ]
        }
      ]
    },
    {
      "cell_type": "markdown",
      "source": [
        "# 3. Função Reduce"
      ],
      "metadata": {
        "id": "uhAgTeisUMld"
      }
    },
    {
      "cell_type": "code",
      "source": [
        "# 3.1 Extrair soma\n",
        "from functools import reduce\n",
        "\n",
        "soma_valor_emprestimos = reduce(lambda x, y: x + y, valor_emprestimos_lista_filtrada)\n",
        "print(soma_valor_emprestimos)"
      ],
      "metadata": {
        "colab": {
          "base_uri": "https://localhost:8080/"
        },
        "id": "I3JAS_-gUPuT",
        "outputId": "407e124d-ef78-418c-e794-b5097db9900a"
      },
      "execution_count": 16,
      "outputs": [
        {
          "output_type": "stream",
          "name": "stdout",
          "text": [
            "14872.550000000001\n"
          ]
        }
      ]
    },
    {
      "cell_type": "code",
      "source": [
        "# 3.2 Extrair média\n",
        "media_valor_emprestimos = reduce(lambda x, y: x + y, valor_emprestimos_lista_filtrada)/len(valor_emprestimos_lista_filtrada)\n",
        "print(media_valor_emprestimos)"
      ],
      "metadata": {
        "colab": {
          "base_uri": "https://localhost:8080/"
        },
        "id": "PurYne5oVH9_",
        "outputId": "6e574ac6-e6c0-4cb2-94ed-973a24fe88f4"
      },
      "execution_count": 15,
      "outputs": [
        {
          "output_type": "stream",
          "name": "stdout",
          "text": [
            "1859.0687500000001\n"
          ]
        }
      ]
    },
    {
      "cell_type": "code",
      "source": [
        "# 3.3 Desafio Extrair desvio padrão amostral\n",
        "from math import sqrt\n",
        "\n",
        "# Tentativa 1 que foi óbviamente fracassada kkkkkkk:\n",
        "# desvio_padrao_valor_emprestimos = sqrt(reduce(lambda x, y: x + y, map(lambda emprestimo: emprestimo - media_valor_emprestimos, valor_emprestimos_lista_filtrada))/len(valor_emprestimos_lista_filtrada))\n",
        "\n",
        "# Tentativa 2 - Fazendo passo a passo:\n",
        "\n",
        "subtrair_media = list(map(lambda emprestimo: emprestimo - media_valor_emprestimos, valor_emprestimos_lista_filtrada))\n",
        "# Debug print(list(subtrair_media))\n",
        "\n",
        "soma_novos_valores = reduce(lambda x, y: x + y if x > 0 else x * (-1) + y, subtrair_media)\n",
        "# Debug print(soma_novos_valores)\n",
        "\n",
        "soma_novos_valores = float(soma_novos_valores)\n",
        "# Debug print(soma_novos_valores)\n",
        "\n",
        "dividir_tamanho_lista = soma_novos_valores / len(valor_emprestimos_lista_filtrada)\n",
        "# Debug print(dividir_tamanho_lista)\n",
        "\n",
        "desvio_padrao_valor_emprestimos = sqrt(dividir_tamanho_lista)\n",
        "print(desvio_padrao_valor_emprestimos)"
      ],
      "metadata": {
        "colab": {
          "base_uri": "https://localhost:8080/"
        },
        "id": "cYQmOqwHW0hc",
        "outputId": "afc3dfd5-07f5-4706-ec23-cec3695cd539"
      },
      "execution_count": 25,
      "outputs": [
        {
          "output_type": "stream",
          "name": "stdout",
          "text": [
            "[-1411.0687500000001, -1032.36875, -1545.46875, 352.93124999999986, 912.23125, 380.93124999999986, 162.8812499999999, 2179.9312499999996]\n",
            "5155.674999999999\n",
            "5155.674999999999\n",
            "25.386204422875032\n"
          ]
        }
      ]
    },
    {
      "cell_type": "code",
      "source": [
        "# Tentativa 3 - Tudo na mesma linha!\n",
        "from math import sqrt\n",
        "\n",
        "desvio_padrao_valor_emprestimos = sqrt(float(reduce(lambda x, y: x + y if x > 0 else x * (-1) + y, list(map(lambda emprestimo: emprestimo - media_valor_emprestimos, valor_emprestimos_lista_filtrada)))) / len(valor_emprestimos_lista_filtrada))\n",
        "print(desvio_padrao_valor_emprestimos)"
      ],
      "metadata": {
        "colab": {
          "base_uri": "https://localhost:8080/"
        },
        "id": "cXrbArRDdinF",
        "outputId": "76ef72dc-dd9f-4c01-bc25-8fe39266cbe8"
      },
      "execution_count": 28,
      "outputs": [
        {
          "output_type": "stream",
          "name": "stdout",
          "text": [
            "25.386204422875032\n"
          ]
        }
      ]
    }
  ]
}