{
  "nbformat": 4,
  "nbformat_minor": 0,
  "metadata": {
    "colab": {
      "provenance": [],
      "collapsed_sections": [
        "0td31qZfzdvG"
      ],
      "authorship_tag": "ABX9TyPlPrzNtdW9xAXjGPSsTuJc",
      "include_colab_link": true
    },
    "kernelspec": {
      "name": "python3",
      "display_name": "Python 3"
    },
    "language_info": {
      "name": "python"
    }
  },
  "cells": [
    {
      "cell_type": "markdown",
      "metadata": {
        "id": "view-in-github",
        "colab_type": "text"
      },
      "source": [
        "<a href=\"https://colab.research.google.com/github/GMiguel99/python-analise-de-dados-ebac/blob/main/Exerc%C3%ADcios_M%C3%B3dulo_2.ipynb\" target=\"_parent\"><img src=\"https://colab.research.google.com/assets/colab-badge.svg\" alt=\"Open In Colab\"/></a>"
      ]
    },
    {
      "cell_type": "markdown",
      "source": [
        "# Exercício Lista"
      ],
      "metadata": {
        "id": "0td31qZfzdvG"
      }
    },
    {
      "cell_type": "code",
      "execution_count": null,
      "metadata": {
        "id": "NvI8o7REzNBb"
      },
      "outputs": [],
      "source": [
        "# Parte 1\n",
        "lista_maispopulares_imdb = [\"The Shawshank Redemption\",\n",
        "                            \"The Godfather\",\n",
        "                            \"Batman: The Dark Knight\",\n",
        "                            \"The Godfather Part 2\",\n",
        "                            \"12 Angry Man\",\n",
        "                            \"Schindler's List\",\n",
        "                            \"The Lord of the Rings: The Return of the King\",\n",
        "                            \"Pulp Fiction\",\n",
        "                            \"The Lord of the Rings: The Fellowship of the Ring\",\n",
        "                            \"The Good, the Bad and the Ugly\"]\n",
        "print(f'{type(lista_maispopulares_imdb)}\\n')\n",
        "\n",
        "# Conferindo se a lista tem de fato 10 itens\n",
        "# tamanho_list = len(lista_maispopulares_imdb) \n",
        "# print(f'Tamanho da Lista: {tamanho_list}')\n",
        "\n",
        "print(f'Os 10 filmes mais popular do IMDB: {lista_maispopulares_imdb}\\n')"
      ]
    },
    {
      "cell_type": "code",
      "source": [
        "# Parte 2\n",
        "lista_maispopulares_imdb = [\"The Shawshank Redemption\",\n",
        "                            \"The Godfather\",\n",
        "                            \"Batman: The Dark Knight\",\n",
        "                            \"The Godfather Part 2\",\n",
        "                            \"12 Angry Man\",\n",
        "                            \"Schindler's List\",\n",
        "                            \"The Lord of the Rings: The Return of the King\",\n",
        "                            \"Pulp Fiction\",\n",
        "                            \"The Lord of the Rings: The Fellowship of the Ring\",\n",
        "                            \"The Good, the Bad and the Ugly\"]\n",
        "\n",
        "print(f'Os 10 filmes mais popular do IMDB: {lista_maispopulares_imdb}\\n')\n",
        "\n",
        "filme_1 = lista_maispopulares_imdb[0]\n",
        "filme_2 = lista_maispopulares_imdb[1]\n",
        "# Debug print(f'Primeiro lugar: {filme_1}\\nSegundo lugar: {filme_2}\\n')\n",
        "\n",
        "# Removi o 1° lugar, o 2° lugar passa a ser o 1°\n",
        "lista_maispopulares_imdb.pop(0)\n",
        "# Debug - print(f'Os 10 filmes mais popular do IMDB: {lista_maispopulares_imdb}\\n')\n",
        "\n",
        "# Removi o 2° lugar que tinha se tornado o 1°\n",
        "lista_maispopulares_imdb.pop(0)\n",
        "# Debug - print(f'Os 10 filmes mais popular do IMDB: {lista_maispopulares_imdb}\\n')\n",
        "\n",
        "# Inseri o 1° lugar da lista original que se mantem em 1° lugar\n",
        "lista_maispopulares_imdb.insert(0, filme_1)\n",
        "# Debug - print(f'Os 10 filmes mais popular do IMDB: {lista_maispopulares_imdb}\\n')\n",
        "\n",
        "# Inseri o 2° lugar da lista orinal que passou a ser o 1° lugar do ranking e o 1° lugar da lista original passou a ser o 2° no ranking\n",
        "lista_maispopulares_imdb.insert(0, filme_2)\n",
        "print(f'Os 10 filmes mais popular do IMDB: {lista_maispopulares_imdb}\\n')"
      ],
      "metadata": {
        "id": "deb-vu4n397m"
      },
      "execution_count": null,
      "outputs": []
    },
    {
      "cell_type": "markdown",
      "source": [
        "# Exercício Conjuntos"
      ],
      "metadata": {
        "id": "S3cly7vy1NQF"
      }
    },
    {
      "cell_type": "code",
      "source": [
        "# Parte 1\n",
        "lista_maispopulares_imdb = [\"The Shawshank Redemption\",\n",
        "                            \"The Godfather\",\n",
        "                            \"Batman: The Dark Knight\",\n",
        "                            \"The Godfather Part 2\",\n",
        "                            \"12 Angry Man\",\n",
        "                            \"Schindler's List\",\n",
        "                            \"The Lord of the Rings: The Return of the King\",\n",
        "                            \"Pulp Fiction\",\n",
        "                            \"The Lord of the Rings: The Fellowship of the Ring\",\n",
        "                            \"The Good, the Bad and the Ugly\"]\n",
        "\n",
        "# Simulando o erro\n",
        "lista_maispopulares_imdb.append(\"Pulp Fiction\")\n",
        "lista_maispopulares_imdb.append(\"The Lord of the Rings: The Fellowship of the Ring\")\n",
        "lista_maispopulares_imdb.append(\"The Good, the Bad and the Ugly\")\n",
        "print(f'Os 10 filmes mais popular do IMDB: {lista_maispopulares_imdb}\\n{type(lista_maispopulares_imdb)}\\n')\n",
        "\n",
        "# Parte 2\n",
        "print(\"Parte 2:\")\n",
        "lista_maispopulares_imdb = list(set(lista_maispopulares_imdb))\n",
        "print(f'Os 10 filmes mais popular do IMDB: {lista_maispopulares_imdb}\\n{type(lista_maispopulares_imdb)}')\n",
        "# Problema: A lista está retornando fora da ordem original após a conversão\n"
      ],
      "metadata": {
        "id": "PdOcAbAB6gOj"
      },
      "execution_count": null,
      "outputs": []
    },
    {
      "cell_type": "markdown",
      "source": [
        "# Exercício Dicionários"
      ],
      "metadata": {
        "id": "Vd7sdpc41bLg"
      }
    },
    {
      "cell_type": "code",
      "source": [
        "# 1a Tentativa - Falha\n",
        "# Criei a lista como um dicionário\n",
        "lista_maispopulares_imdb = dict()\n",
        "\n",
        "# Criei cada item individualmente cada um como um dicionário\n",
        "primeiro_lugar = {'nome' : 'The Shawshank Redemption', 'ano' : 1994, 'sinopse' : 'Dois homens presos se reúnem ao longo de vários anos, encontrando consolo e eventual redenção através de atos de decência comum.'}\n",
        "segundo_lugar = {'nome' : 'The Godfather', 'ano' : 1972, 'sinopse' : 'O patriarca idoso de uma dinastia do crime organizado transfere o controle de seu império clandestino para seu filho relutante.'}\n",
        "terceiro_lugar = {'nome' : 'Batman: The Dark Knight', 'ano' : 2008, 'sinopse' : 'Quando a ameaça conhecida como O Coringa surge de seu passado, causa estragos e caos nas pessoas de Gotham. O Cavaleiro das Trevas deve aceitar um dos maiores testes para combater a injustiça.'}\n",
        "quarto_lugar = {'nome' : 'The Godfather Part 2', 'ano' : 1974, 'sinopse' : 'Em 1950, Michael Corleone, agora à frente da família, tenta expandir o negócio do crime a Las Vegas, Los Angeles e Cuba. Paralelamente, é revelada a história de Vito Corleone, e de como saiu da Sicília e chegou a Nova Iorque.'}\n",
        "quinto_lugar = {'nome' : '12 Angry Man', 'ano' : 1957, 'sinopse' : 'Um jurado que se aposenta tenta evitar um erro judicial forçando seus colegas a reconsiderarem as evidências.'}\n",
        "sexto_lugar = {'nome' : 'Schindler\\'s List', 'ano' : 1993, 'sinopse' : 'Depois de testemunhar a perseguição dos judaicos na Polônia ocupada pelos alemães durante a Segunda Guerra Mundial, o industrial Oskar Schindler se começa a preocupar com sua força de trabalho judaica.'}\n",
        "setimo_lugar = {'nome' : 'The Lord of the Rings: The Return of the King', 'ano' : 2003, 'sinopse' : 'Gandalf e Aragorn lideram o Mundo dos Homens contra o exército de Sauron para desviar o olhar de Frodo e Sam quando eles se aproximam á Montanha da Perdição com o Um Anel.'}\n",
        "oitavo_lugar = {'nome' : 'Pulp Fiction', 'ano' : 1994, 'sinopse' : 'As vidas de dois assassinos da máfia, um boxeador, um gângster e sua esposa, e um par de bandidos se entrelaçam em quatro histórias de violência e redenção.'}\n",
        "nono_lugar = {'nome' : 'The Lord of the Rings: The Fellowship of the Ring', 'ano' : 2001, 'sinopse' : 'Um manso hobbit do Condado e oito companheiros partem em uma jornada para destruir o poderoso Um Anel e salvar a Terra-média das Trevas.'}\n",
        "decimo_lugar = {'nome' : 'The Good, the Bad and the Ugly', 'ano' : 1966, 'sinopse' : 'Um impostor se junta com dois homens para encontrar fortuna num remoto cemitério.'}\n",
        "\n",
        "# Tentei adicionar o item na lista\n",
        "lista_maispopulares_imdb.update('primeiro lugar' : primeiro_lugar)\n",
        "print(lista_maispopulares_imdb)\n",
        "# Não funcionou :("
      ],
      "metadata": {
        "id": "W-RUlE-Y_bT9"
      },
      "execution_count": null,
      "outputs": []
    },
    {
      "cell_type": "code",
      "source": [
        "# 2a Tentativa\n",
        "# Criei cada item individualmente cada um como um dicionário\n",
        "primeiro_lugar = {'nome' : 'The Shawshank Redemption', 'ano' : 1994, 'sinopse' : 'Dois homens presos se reúnem ao longo de vários anos, encontrando consolo e eventual redenção através de atos de decência comum.'}\n",
        "segundo_lugar = {'nome' : 'The Godfather', 'ano' : 1972, 'sinopse' : 'O patriarca idoso de uma dinastia do crime organizado transfere o controle de seu império clandestino para seu filho relutante.'}\n",
        "terceiro_lugar = {'nome' : 'Batman: The Dark Knight', 'ano' : 2008, 'sinopse' : 'Quando a ameaça conhecida como O Coringa surge de seu passado, causa estragos e caos nas pessoas de Gotham. O Cavaleiro das Trevas deve aceitar um dos maiores testes para combater a injustiça.'}\n",
        "quarto_lugar = {'nome' : 'The Godfather Part 2', 'ano' : 1974, 'sinopse' : 'Em 1950, Michael Corleone, agora à frente da família, tenta expandir o negócio do crime a Las Vegas, Los Angeles e Cuba. Paralelamente, é revelada a história de Vito Corleone, e de como saiu da Sicília e chegou a Nova Iorque.'}\n",
        "quinto_lugar = {'nome' : '12 Angry Man', 'ano' : 1957, 'sinopse' : 'Um jurado que se aposenta tenta evitar um erro judicial forçando seus colegas a reconsiderarem as evidências.'}\n",
        "sexto_lugar = {'nome' : 'Schindler\\'s List', 'ano' : 1993, 'sinopse' : 'Depois de testemunhar a perseguição dos judaicos na Polônia ocupada pelos alemães durante a Segunda Guerra Mundial, o industrial Oskar Schindler se começa a preocupar com sua força de trabalho judaica.'}\n",
        "setimo_lugar = {'nome' : 'The Lord of the Rings: The Return of the King', 'ano' : 2003, 'sinopse' : 'Gandalf e Aragorn lideram o Mundo dos Homens contra o exército de Sauron para desviar o olhar de Frodo e Sam quando eles se aproximam á Montanha da Perdição com o Um Anel.'}\n",
        "oitavo_lugar = {'nome' : 'Pulp Fiction', 'ano' : 1994, 'sinopse' : 'As vidas de dois assassinos da máfia, um boxeador, um gângster e sua esposa, e um par de bandidos se entrelaçam em quatro histórias de violência e redenção.'}\n",
        "nono_lugar = {'nome' : 'The Lord of the Rings: The Fellowship of the Ring', 'ano' : 2001, 'sinopse' : 'Um manso hobbit do Condado e oito companheiros partem em uma jornada para destruir o poderoso Um Anel e salvar a Terra-média das Trevas.'}\n",
        "decimo_lugar = {'nome' : 'The Good, the Bad and the Ugly', 'ano' : 1966, 'sinopse' : 'Um impostor se junta com dois homens para encontrar fortuna num remoto cemitério.'}\n",
        "\n",
        "lista_maispopulares_imdb = {\n",
        "    'primeiro_lugar' : primeiro_lugar,\n",
        "    'segundo_lugar' : segundo_lugar,\n",
        "    'terceiro_lugar' : terceiro_lugar,\n",
        "    'quarto_lugar' : quarto_lugar,\n",
        "    'quinto_lugar' : quinto_lugar,\n",
        "    'sexto_lugar' : sexto_lugar,\n",
        "    'setimo_lugar' : setimo_lugar,\n",
        "    'oitavo_lugar' : oitavo_lugar,\n",
        "    'nono_lugar' : nono_lugar,\n",
        "    'decimo_lugar' : decimo_lugar\n",
        "}\n",
        "\n",
        "# Me aventurei a fazer um for pra printar de forma mais clara o filme\n",
        "#for x in range(len(lista_maispopulares_imdb)):\n",
        "#  print(f'{x} lugar:\\nNome: {lista_maispopulares_imdb[x].get('nome')}\\n')\n",
        "\n",
        "print(lista_maispopulares_imdb)"
      ],
      "metadata": {
        "id": "gK3lEv4GGhrU"
      },
      "execution_count": null,
      "outputs": []
    }
  ]
}