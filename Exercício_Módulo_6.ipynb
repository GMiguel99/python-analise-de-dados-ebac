{
  "nbformat": 4,
  "nbformat_minor": 0,
  "metadata": {
    "colab": {
      "provenance": [],
      "collapsed_sections": [
        "Oah5SiL-d5Qq",
        "uOR_5JayeKDT",
        "2Fkrls8pjpdM",
        "FMgzhWPHfumw",
        "y8743-mbjsvo",
        "ywsRtSx7h9tg",
        "xWQVh0XQjv5O"
      ],
      "authorship_tag": "ABX9TyP2lROhKCg9o3GxB7aGWhtc",
      "include_colab_link": true
    },
    "kernelspec": {
      "name": "python3",
      "display_name": "Python 3"
    },
    "language_info": {
      "name": "python"
    }
  },
  "cells": [
    {
      "cell_type": "markdown",
      "metadata": {
        "id": "view-in-github",
        "colab_type": "text"
      },
      "source": [
        "<a href=\"https://colab.research.google.com/github/GMiguel99/python-analise-de-dados-ebac/blob/main/Exerc%C3%ADcio_M%C3%B3dulo_6.ipynb\" target=\"_parent\"><img src=\"https://colab.research.google.com/assets/colab-badge.svg\" alt=\"Open In Colab\"/></a>"
      ]
    },
    {
      "cell_type": "markdown",
      "source": [
        "# Preparação de Ambiente"
      ],
      "metadata": {
        "id": "Oah5SiL-d5Qq"
      }
    },
    {
      "cell_type": "markdown",
      "source": [
        "- carros.csv"
      ],
      "metadata": {
        "id": "Ff4EAis1d_ox"
      }
    },
    {
      "cell_type": "code",
      "execution_count": null,
      "metadata": {
        "id": "V97TKFVCdqYe"
      },
      "outputs": [],
      "source": [
        "%%writefile carros.csv\n",
        "id,valor_venda,valor_manutencao,portas,pessoas,porta_malas\n",
        "1,vhigh,med,2,2,small\n",
        "2,med,vhigh,2,2,small\n",
        "3,low,vhigh,2,2,small\n",
        "4,low,high,2,2,small\n",
        "5,low,high,2,2,small\n",
        "6,low,high,4,4,big\n",
        "7,low,high,4,4,big\n",
        "8,low,med,2,2,small\n",
        "9,low,med,2,2,small\n",
        "10,low,med,2,2,small\n",
        "11,low,med,4,4,big\n",
        "12,low,low,2,2,small\n",
        "13,low,low,4,4,small\n",
        "14,low,low,4,4,med"
      ]
    },
    {
      "cell_type": "markdown",
      "source": [
        "- musica.txt"
      ],
      "metadata": {
        "id": "WUnpc37ceEiP"
      }
    },
    {
      "cell_type": "code",
      "source": [
        "%%writefile musica.txt\n",
        "Roda Viva\n",
        "Chico Buarque\n",
        "\n",
        "Tem dias que a gente se sente\n",
        "Como quem partiu ou morreu\n",
        "A gente estancou de repente\n",
        "Ou foi o mundo então que cresceu\n",
        "A gente quer ter voz ativa\n",
        "No nosso destino mandar\n",
        "Mas eis que chega a roda viva\n",
        "E carrega o destino pra lá\n",
        "\n",
        "Roda mundo, roda-gigante\n",
        "Roda moinho, roda pião\n",
        "\n",
        "O tempo rodou num instante\n",
        "Nas voltas do meu coração\n",
        "A gente vai contra a corrente\n",
        "Até não poder resistir\n",
        "Na volta do barco é que sente\n",
        "O quanto deixou de cumprir\n",
        "Faz tempo que a gente cultiva\n",
        "A mais linda roseira que há\n",
        "Mas eis que chega a roda viva\n",
        "E carrega a roseira pra lá\n",
        "\n",
        "Roda mundo, roda-gigante\n",
        "Roda moinho, roda pião"
      ],
      "metadata": {
        "id": "O6e0RVIoeD_q"
      },
      "execution_count": null,
      "outputs": []
    },
    {
      "cell_type": "markdown",
      "source": [
        "# 1. Classe para ler arquivos de texto"
      ],
      "metadata": {
        "id": "uOR_5JayeKDT"
      }
    },
    {
      "cell_type": "code",
      "source": [
        "class ArquivoTexto(object):\n",
        "\n",
        "  def __init__(self, arquivo: str):\n",
        "    self.arquivo = arquivo\n",
        "    self.conteudo = self._extrair_conteudo()\n",
        "\n",
        "  def _extrair_conteudo(self):\n",
        "    conteudo = None\n",
        "    with open(file=self.arquivo, mode='r', encoding='utf8') as fp:\n",
        "      conteudo = fp.readlines()\n",
        "    return conteudo\n",
        "\n",
        "  def extrair_linha(self, numero_linha: int):\n",
        "    linhas_do_arquivo = []\n",
        "    palavras_linha = []\n",
        "    with open(file=self.arquivo, mode='r', encoding='utf8') as fp:\n",
        "      linha = fp.readline()\n",
        "      while linha:\n",
        "        linha_separada = linha.split(sep='\\n')\n",
        "        sentenca = linha_separada[0]\n",
        "        sentenca = str(sentenca)\n",
        "        linhas_do_arquivo.append(sentenca)\n",
        "        linha = fp.readline()\n",
        "    linha_que_eu_quero = linhas_do_arquivo[numero_linha-1]\n",
        "    return linha_que_eu_quero"
      ],
      "metadata": {
        "id": "Vni8crH3eP-2"
      },
      "execution_count": null,
      "outputs": []
    },
    {
      "cell_type": "markdown",
      "source": [
        "## Teste"
      ],
      "metadata": {
        "id": "2Fkrls8pjpdM"
      }
    },
    {
      "cell_type": "code",
      "source": [
        "arquivo_texto = ArquivoTexto(arquivo='musica.txt')\n",
        "\n",
        "numero_linha = 1\n",
        "print(arquivo_texto.extrair_linha(numero_linha=numero_linha)) # Roda Viva\n",
        "\n",
        "numero_linha = 10\n",
        "print(arquivo_texto.extrair_linha(numero_linha=numero_linha)) # Mas eis que chega a roda viva"
      ],
      "metadata": {
        "id": "HgVPyjBpfa2A"
      },
      "execution_count": null,
      "outputs": []
    },
    {
      "cell_type": "markdown",
      "source": [
        "# 2. Classe para ler aquivos de csv"
      ],
      "metadata": {
        "id": "FMgzhWPHfumw"
      }
    },
    {
      "cell_type": "code",
      "source": [
        "class ArquivoCSV(ArquivoTexto):\n",
        "\n",
        "  def __init__(self, arquivo: str):\n",
        "    super().__init__(arquivo=arquivo)\n",
        "    self.colunas = self._extrair_nome_colunas()\n",
        "\n",
        "  def _extrair_nome_colunas(self):\n",
        "    return self.conteudo[0].strip().split(sep=',')\n",
        "  \n",
        "  def extrair_coluna(self, indice_coluna: int):\n",
        "    coluna = list()\n",
        "    for linha in self.conteudo:\n",
        "      conteudo_linha = linha.strip().split(sep=',')\n",
        "      coluna.append(conteudo_linha[indice_coluna])\n",
        "    coluna.pop(0)\n",
        "    return coluna"
      ],
      "metadata": {
        "id": "vTTD4TX9f2Jn"
      },
      "execution_count": null,
      "outputs": []
    },
    {
      "cell_type": "markdown",
      "source": [
        "## Teste"
      ],
      "metadata": {
        "id": "y8743-mbjsvo"
      }
    },
    {
      "cell_type": "code",
      "source": [
        "arquivo_csv = ArquivoCSV(arquivo='carros.csv')\n",
        "\n",
        "numero_linha = 1\n",
        "print(arquivo_csv.extrair_linha(numero_linha=numero_linha)) # id,valor_venda,valor_manutencao,portas,pessoas,porta_malas\n",
        "\n",
        "print(arquivo_csv.colunas) # ['id', 'valor_venda', 'valor_manutencao', 'portas', 'pessoas', 'porta_malas']\n",
        "\n",
        "numero_linha = 10\n",
        "print(arquivo_csv.extrair_linha(numero_linha=numero_linha)) # 9,low,med,2,2,small\n",
        "\n",
        "indice_coluna = 2\n",
        "print(arquivo_csv.extrair_coluna(indice_coluna=indice_coluna)) # ['med', 'vhigh', 'vhigh', 'high', 'high', 'high', 'high', 'med', 'med', 'med', 'med', 'low', 'low', 'low']"
      ],
      "metadata": {
        "id": "nyqXPFM1gHNG"
      },
      "execution_count": null,
      "outputs": []
    },
    {
      "cell_type": "markdown",
      "source": [
        "# Exercício Bônus"
      ],
      "metadata": {
        "id": "ywsRtSx7h9tg"
      }
    },
    {
      "cell_type": "code",
      "source": [
        "class ArquivoCSV2(ArquivoTexto):\n",
        "\n",
        "  # Composição da nova classe, herdando uma classe já criada\n",
        "  def __init__(self, arquivo: str):\n",
        "    super().__init__(arquivo=arquivo)\n",
        "\n",
        "  def extrair_coluna_da_linha(self, numero_linha: int, indice_coluna: int):\n",
        "    linhas_do_arquivo = []\n",
        "    palavras_linha = []\n",
        "    with open(file=self.arquivo, mode='r', encoding='utf8') as fp:\n",
        "      linha = fp.readline()\n",
        "      while linha:\n",
        "        linha_separada = linha.split(sep='\\n')\n",
        "        sentenca = linha_separada[0]\n",
        "        sentenca = str(sentenca)\n",
        "        linhas_do_arquivo.append(sentenca)\n",
        "        linha = fp.readline()\n",
        "    linha_que_eu_quero = list(linhas_do_arquivo[numero_linha-1].split(sep=','))\n",
        "    coluna_que_eu_quero = linha_que_eu_quero[indice_coluna-1]\n",
        "    return coluna_que_eu_quero"
      ],
      "metadata": {
        "id": "liWXnERziGdJ"
      },
      "execution_count": null,
      "outputs": []
    },
    {
      "cell_type": "markdown",
      "source": [
        "## Teste"
      ],
      "metadata": {
        "id": "xWQVh0XQjv5O"
      }
    },
    {
      "cell_type": "code",
      "source": [
        "arquivo_csv2 = ArquivoCSV2(arquivo='carros.csv')\n",
        "\n",
        "numero_linha = 10\n",
        "indice_coluna = 2\n",
        "print(arquivo_csv2.extrair_coluna_da_linha(numero_linha=numero_linha, indice_coluna=indice_coluna)) # low"
      ],
      "metadata": {
        "id": "tXYhOtuLiG_r"
      },
      "execution_count": null,
      "outputs": []
    }
  ]
}